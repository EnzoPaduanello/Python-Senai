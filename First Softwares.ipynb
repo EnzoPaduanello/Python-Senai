{
  "nbformat": 4,
  "nbformat_minor": 0,
  "metadata": {
    "colab": {
      "provenance": []
    },
    "kernelspec": {
      "name": "python3",
      "display_name": "Python 3"
    },
    "language_info": {
      "name": "python"
    }
  },
  "cells": [
    {
      "cell_type": "code",
      "execution_count": null,
      "metadata": {
        "colab": {
          "base_uri": "https://localhost:8080/"
        },
        "id": "ctNSnFpoFAyQ",
        "outputId": "23b499c5-0acb-461e-af08-20880f022629"
      },
      "outputs": [
        {
          "output_type": "stream",
          "name": "stdout",
          "text": [
            "Olá Mundo!\n",
            "Algoritmo: Sequência lógica de passos encadeados, com objetivo de resolver alguma tarefa.\n",
            "Linearização de expressão: divisão (media) = (8+2)/2\n",
            "Operadores Aritiméticos: soma: +, subtração: -, divisão: /, multiplicação: *.\n"
          ]
        }
      ],
      "source": [
        "print(\"Olá Mundo!\")\n",
        "print(\"Algoritmo: Sequência lógica de passos encadeados, com objetivo de resolver alguma tarefa.\")\n",
        "print(\"Linearização de expressão: divisão (media) = (8+2)/2\")\n",
        "print(\"Operadores Aritiméticos: soma: +, subtração: -, divisão: /, multiplicação: *.\")"
      ]
    },
    {
      "cell_type": "code",
      "source": [
        "print(\"Nome: Enzo Vitoriano Puttini Paduanello\")\n",
        "print(\"Endereço: Av Herbert de Souza N°1, Apt F Bl 13, Campinas/Sp\")\n",
        "print(\"Telefone: +55 19 99287-3408\")"
      ],
      "metadata": {
        "colab": {
          "base_uri": "https://localhost:8080/"
        },
        "id": "WjT-2THPNr89",
        "outputId": "99b5d98d-31fe-478c-c67f-9e10e783fc1e"
      },
      "execution_count": null,
      "outputs": [
        {
          "output_type": "stream",
          "name": "stdout",
          "text": [
            "Nome: Enzo Vitoriano Puttini Paduanello\n",
            "Endereço: Av Herbert de Souza N°1, Apt F Bl 13, Campinas/Sp\n",
            "Telefone: +55 19 99287-3408\n"
          ]
        }
      ]
    },
    {
      "cell_type": "code",
      "source": [
        "(media) = (10+7)/2\n",
        "print (\"Média:\", media)\n",
        "\n",
        "(num1) = 11\n",
        "(num2) = 2\n",
        "(soma) = (num1) + (num2)\n",
        "(subt) = (num1) - (num2)\n",
        "(divs) = (num1) / (num2)\n",
        "(multi) = (num1) * (num2)\n",
        "print(\"O resultado da soma é:\", soma, \"Faça o L\")\n",
        "print(\"O resultado da subtração é:\", subt, \"Haaland, Haaland\")\n",
        "print(\"O resultado da divisão é:\", divs, \"Sua média nas provas\")\n",
        "print(\"O resultado da multiplicação é:\", multi, \"O número do Bozonauro\")"
      ],
      "metadata": {
        "colab": {
          "base_uri": "https://localhost:8080/"
        },
        "id": "N781AxBSTqil",
        "outputId": "bd48a62f-d94b-403f-e547-46b974a911ca"
      },
      "execution_count": null,
      "outputs": [
        {
          "output_type": "stream",
          "name": "stdout",
          "text": [
            "Média: 8.5\n",
            "O resultado da soma é: 13 Faça o L\n",
            "O resultado da subtração é: 9 Haaland, Haaland\n",
            "O resultado da divisão é: 5.5 Sua média nas provas\n",
            "O resultado da multiplicação é: 22 O número do Bozonauro\n"
          ]
        }
      ]
    },
    {
      "cell_type": "code",
      "source": [
        "num1:float\n",
        "num1 = float(input(\"Digite o número 1: \")) #conversão de valores: string (texto) -> número\n",
        "num2 = float(input(\"Digite o número 2: \"))\n",
        "soma = num1 + num2\n",
        "print(\"O resultado da soma é:\", soma)\n",
        "if(soma) == 13:\n",
        "    print(\"Faz o L\")\n",
        "if (soma) == 22:\n",
        "    print(\"É o Bozo\")"
      ],
      "metadata": {
        "colab": {
          "base_uri": "https://localhost:8080/"
        },
        "id": "C43BYwsUZEsW",
        "outputId": "7c17f626-44dd-44f6-dab3-2d81101a7da6"
      },
      "execution_count": null,
      "outputs": [
        {
          "output_type": "stream",
          "name": "stdout",
          "text": [
            "Digite o número 1: 2\n",
            "Digite o número 2: 11\n",
            "O resultado da soma é: 13.0\n",
            "Faz o L\n"
          ]
        }
      ]
    },
    {
      "cell_type": "markdown",
      "source": [
        "27/06/2023 Atv 1:\n",
        "Desenvolva um algoritmo que receba o saldo atual de uma aplicação e mostre um novo saldo com valor reajustado em 1%.\n",
        "variáveis:\n",
        "e: saldo\n",
        "s: nsaldo\n",
        "% = 1/100\n",
        "nsaldo = (saldo*0.01)+saldo"
      ],
      "metadata": {
        "id": "E3k0QW4lZjcP"
      }
    },
    {
      "cell_type": "code",
      "source": [
        "aplicacao:float\n",
        "aplicacao = float(input(\"Informe seu saldo atual para a aplicação: \"))\n",
        "saldo = aplicacao / 100\n",
        "saldo = saldo + aplicacao\n",
        "\n",
        "print(\" \")\n",
        "print(\"Seu saldo após a aplicação é:\", saldo)\n",
        "print(\" \")\n",
        "\n",
        "saldo = aplicacao\n",
        "saldo = (aplicacao / 100) + aplicacao\n",
        "print(\"Seu saldo após a aplicação é:\", saldo)\n",
        "print(\" \")\n",
        "\n",
        "saldo = aplicacao\n",
        "saldo = (aplicacao * 0.01) + aplicacao\n",
        "print(\"Seu saldo após a aplicação é:\", saldo)\n",
        "print(\" \")\n",
        "\n",
        "saldo = aplicacao\n",
        "saldo = aplicacao + aplicacao * 0.01\n",
        "print(\"Seu saldo após a aplicação é: \", saldo)\n",
        "print(\" \")\n",
        "\n",
        "saldo = aplicacao\n",
        "saldo = saldo / 100 + saldo\n",
        "print(\"Seu saldo após a aplicação é:\", saldo)"
      ],
      "metadata": {
        "colab": {
          "base_uri": "https://localhost:8080/"
        },
        "id": "p_rtsITt2-bB",
        "outputId": "54ffa546-c4f8-4b3a-e5ce-2c5271185b68"
      },
      "execution_count": null,
      "outputs": [
        {
          "output_type": "stream",
          "name": "stdout",
          "text": [
            "Informe seu saldo atual para a aplicação: 500\n",
            " \n",
            "Seu saldo após a aplicação é: 505.0\n",
            " \n",
            "Seu saldo após a aplicação é: 505.0\n",
            " \n",
            "Seu saldo após a aplicação é: 505.0\n",
            " \n",
            "Seu saldo após a aplicação é: 505.00\n",
            " \n",
            "Seu saldo após a aplicação é: 505.0\n"
          ]
        }
      ]
    },
    {
      "cell_type": "markdown",
      "source": [
        "Atv 2: Criar um algoritmo que efetue o cálculo do salário líquido de um professor. Os dados fornecidos serão: valor da hora aula, número de aulas dadas no mês e percentual de desconto do INSS (considerar 7%).\n"
      ],
      "metadata": {
        "id": "xPlHwzj5ZmrX"
      }
    },
    {
      "cell_type": "code",
      "source": [
        "valorAula: float\n",
        "numAula: float\n",
        "valorAula = float(input(\"Digite o valor da hora da aula: \"))\n",
        "numAula = float(input(\"Digite o número de aulas dadas mo mês: \"))\n",
        "inss = (valorAula * numAula) * 0.07\n",
        "valorAula = (valorAula * numAula) - inss\n",
        "print(\"O valor do seu salário no mês é: {:.2f}\".format(valorAula))"
      ],
      "metadata": {
        "colab": {
          "base_uri": "https://localhost:8080/"
        },
        "id": "2Do_vy8WOdCQ",
        "outputId": "ec5d511d-ed08-4b1c-eb72-5fee2f436428"
      },
      "execution_count": null,
      "outputs": [
        {
          "output_type": "stream",
          "name": "stdout",
          "text": [
            "Digite o valor da hora da aula: 45.5\n",
            "Digite o número de aulas dadas mo mês: 100\n",
            "O valor do seu salário no mês é: 4231.50\n"
          ]
        }
      ]
    },
    {
      "cell_type": "code",
      "source": [
        "valorAula: float\n",
        "numAula: float\n",
        "valorAula = float(input(\"Digite o valor da hora da aula: \"))\n",
        "numAula = float(input(\"Digite o número de aulas dadas mo mês: \"))\n",
        "valorAula = valorAula * numAula\n",
        "numAula = valorAula * 0.07\n",
        "valorAula = valorAula - numAula\n",
        "print(\"O valor do seu salário no mês é: {:.2f}\".format(valorAula))"
      ],
      "metadata": {
        "colab": {
          "base_uri": "https://localhost:8080/"
        },
        "id": "L5c_HEiFYBxP",
        "outputId": "60b06ad5-c11c-4501-bfd4-01b8894aa84e"
      },
      "execution_count": null,
      "outputs": [
        {
          "output_type": "stream",
          "name": "stdout",
          "text": [
            "Digite o valor da hora da aula: 45.5\n",
            "Digite o número de aulas dadas mo mês: 100\n",
            "O valor do seu salário no mês é:  4231.5\n"
          ]
        }
      ]
    },
    {
      "cell_type": "markdown",
      "source": [
        "Atv 3: Implemente um algoritmo que leia um valor em dólares e o converta para reais, considerando uma taxa de câmbio informada."
      ],
      "metadata": {
        "id": "V9GjkJehZrJg"
      }
    },
    {
      "cell_type": "code",
      "source": [
        "dolar: float\n",
        "cambio: float\n",
        "dolar = float(input(\"Digite o valor em dólar para a conversão: \"))\n",
        "cambio = float(input(\"Informe o câmbio atual: \"))\n",
        "\n",
        "dolar = dolar * cambio\n",
        "\n",
        "print(\"O valor em reais é: {:.2f}\".format(dolar))"
      ],
      "metadata": {
        "colab": {
          "base_uri": "https://localhost:8080/"
        },
        "id": "Crc4E14tZc-n",
        "outputId": "b43d3d4a-4622-4274-b8cb-6c1f4cd3af49"
      },
      "execution_count": null,
      "outputs": [
        {
          "output_type": "stream",
          "name": "stdout",
          "text": [
            "Digite o valor em dólar para a conversão: 37\n",
            "Informe o câmbio atual: 4.81\n",
            "O valor em reais é: 177.97\n"
          ]
        }
      ]
    },
    {
      "cell_type": "markdown",
      "source": [
        "Atv 4: Implemente um algoritmo que leia um valor em euro e o converta para reais, considerando uma taxa de câmbio informada.\n"
      ],
      "metadata": {
        "id": "0pJl9Xb0bdqC"
      }
    },
    {
      "cell_type": "code",
      "source": [
        "euro: float\n",
        "cambio: float\n",
        "euro = float(input(\"Digite o valor em euro para a conversão: \"))\n",
        "cambio = float(input(\"Informe o câmbio atual: \"))\n",
        "\n",
        "euro = euro * cambio\n",
        "\n",
        "print(\"O valor em reais é: {:.2f}\".format(euro))"
      ],
      "metadata": {
        "colab": {
          "base_uri": "https://localhost:8080/"
        },
        "id": "utMmNDudblOF",
        "outputId": "793a517b-8381-4a52-a888-3128b6bf5abf"
      },
      "execution_count": null,
      "outputs": [
        {
          "output_type": "stream",
          "name": "stdout",
          "text": [
            "Digite o valor em euro para a conversão: 37\n",
            "Informe o câmbio atual: 5.27\n",
            "O valor em reais é: 194.99\n"
          ]
        }
      ]
    },
    {
      "cell_type": "markdown",
      "source": [
        "29/06/2023: Reivsão desafio 28/06/2023"
      ],
      "metadata": {
        "id": "eyhzM5MZHJyI"
      }
    },
    {
      "cell_type": "code",
      "source": [
        "def calc_desc(valor, porcentagem):\n",
        "    desconto = valor * (porcentagem / 100)\n",
        "    return desconto\n",
        "\n",
        "\n",
        "def calc_valor_des(valor, porcentagem):\n",
        "    desconto = calc_desc(valor, porcentagem)\n",
        "    valor_com_desconto = valor - desconto\n",
        "    return valor_com_desconto\n",
        "\n",
        "\n",
        "def mostrar_desc(valor, porcentagem):\n",
        "    valor_com_desconto = calc_valor_des(valor, porcentagem)\n",
        "    print(\"O valor do produto com desconto é R$ {:.2f}\".format(valor_com_desconto))\n"
      ],
      "metadata": {
        "id": "NBoqJ0DKHOuZ"
      },
      "execution_count": null,
      "outputs": []
    },
    {
      "cell_type": "code",
      "source": [
        "valor_cheio = float (input(\"Informe o valor do produto \"))\n",
        "porcentagem_desconto = float (input(\"Informe o desconto concedido \"))\n",
        "\n",
        "\n",
        "desconto = calc_desc(valor_cheio, porcentagem_desconto)\n",
        "print(\"O valor do desconto é R$ {:.2f}\".format(desconto))\n",
        "\n",
        "\n",
        "valor_com_desconto = calc_valor_des(valor_cheio, porcentagem_desconto)\n",
        "print(\"O valor do produto com desconto é R$ {:.2f}\".format(valor_com_desconto))\n",
        "\n",
        "\n",
        "mostrar_desc(valor_cheio, porcentagem_desconto)"
      ],
      "metadata": {
        "id": "o7NSbGDJQQ6e"
      },
      "execution_count": null,
      "outputs": []
    },
    {
      "cell_type": "markdown",
      "source": [
        "Fluxo de Controle de Controle de Decisão\n",
        "\n",
        "Desenvolva um algoritmo para calcular a média aritmética de uma aluno com base em duas avaliações. O programa deverá solicitar as duas notas de um aluno e retornar se ele foi aprovado ou reprobado.\n"
      ],
      "metadata": {
        "id": "F6cQ_FKTWumm"
      }
    },
    {
      "cell_type": "code",
      "source": [
        "nota1 = float(input(\"Informe a primeira nota:\"))\n",
        "nota2 = float(input(\"Informe a segunda nota:\"))\n",
        "media = (nota1 + nota2) / 2\n",
        "\n",
        "print(\"Sua média é: \", media)\n",
        "\n",
        "if (media) >= 7:\n",
        "  situacao = \"aprovado!\"\n",
        "  print(situacao)\n",
        "else:\n",
        "  situacao = \"reprovado!\"\n",
        "  print(situacao)"
      ],
      "metadata": {
        "colab": {
          "base_uri": "https://localhost:8080/"
        },
        "id": "v1z_9hACWyge",
        "outputId": "24c76e06-6c47-4443-d1fb-91aefcab8125"
      },
      "execution_count": null,
      "outputs": [
        {
          "output_type": "stream",
          "name": "stdout",
          "text": [
            "Informe a primeira nota:5\n",
            "Informe a segunda nota:10\n",
            "Sua média é:  7.5\n",
            "aprovado!\n"
          ]
        }
      ]
    }
  ]
}
